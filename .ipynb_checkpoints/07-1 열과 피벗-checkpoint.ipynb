{
 "cells": [
  {
   "cell_type": "markdown",
   "id": "97427a4e",
   "metadata": {},
   "source": [
    "### 넓은 데이터\n",
    "- 넓은 데이터란 열 자체가 값을 가지는 데이터를 의미한다. 열 자체가 데이터를 가지면서 옆으로 길게 늘어선 형태가 된다."
   ]
  },
  {
   "cell_type": "code",
   "execution_count": null,
   "id": "562556f9",
   "metadata": {},
   "outputs": [],
   "source": []
  }
 ],
 "metadata": {
  "kernelspec": {
   "display_name": "Python 3 (ipykernel)",
   "language": "python",
   "name": "python3"
  },
  "language_info": {
   "codemirror_mode": {
    "name": "ipython",
    "version": 3
   },
   "file_extension": ".py",
   "mimetype": "text/x-python",
   "name": "python",
   "nbconvert_exporter": "python",
   "pygments_lexer": "ipython3",
   "version": "3.9.12"
  }
 },
 "nbformat": 4,
 "nbformat_minor": 5
}
